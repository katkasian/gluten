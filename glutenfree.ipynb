{
  "nbformat": 4,
  "nbformat_minor": 0,
  "metadata": {
    "kernelspec": {
      "display_name": "Python 3",
      "language": "python",
      "name": "python3"
    },
    "language_info": {
      "codemirror_mode": {
        "name": "ipython",
        "version": 3
      },
      "file_extension": ".py",
      "mimetype": "text/x-python",
      "name": "python",
      "nbconvert_exporter": "python",
      "pygments_lexer": "ipython3",
      "version": "3.7.0"
    },
    "colab": {
      "name": "glutenfree.ipynb",
      "provenance": [],
      "collapsed_sections": []
    }
  },
  "cells": [
    {
      "cell_type": "markdown",
      "metadata": {
        "id": "tXwHC6DnTz_f",
        "colab_type": "text"
      },
      "source": [
        "Title: Gauging the Effect of Product Naming: a Gluten-Free Analysis of an Online Grocery App Dataset\n",
        "Category: python\n",
        "Date: 2018-07-01\n",
        "Slug: gluten-free-app\n",
        "Header_Cover: siteImages/wheat.jpg"
      ]
    },
    {
      "cell_type": "markdown",
      "metadata": {
        "id": "ICTm0n2pMEnt",
        "colab_type": "text"
      },
      "source": [
        "Does naming of a product influence its popularity? In this exercise, I use a dataset provided to [Kaggle](https://www.kaggle.com/c/instacart-market-basket-analysis) by Instacart (a grocery ordering and delivery app) in order to try and answer the question about whether including the information about the product being \"gluten-free\" affects the number of customers who buy it. The analysis is performed in pandas library, and the main statistics explored is Jaccard similarity coefficient."
      ]
    },
    {
      "cell_type": "markdown",
      "metadata": {
        "id": "SVwlzq2_L9Oz",
        "colab_type": "text"
      },
      "source": [
        "#__Questions to answer__\n",
        "##### 1. For two similar products, will the inclusing of \"gluten-free\" status in the name of one of the products influence its popularity? \n",
        "##### 2. Are these results going to be different for different types of products and time of purchase?\n"
      ]
    },
    {
      "cell_type": "code",
      "metadata": {
        "id": "OFIAcSV4L9O3",
        "colab_type": "code",
        "colab": {
          "base_uri": "https://localhost:8080/",
          "height": 130
        },
        "outputId": "e38598ce-be35-43f9-96c3-81347c3c0dad"
      },
      "source": [
        "#importing necessary libraries and the dataset\n",
        "from google.colab import drive\n",
        "import pandas as pd\n",
        "drive.mount(\"/content/drive\")"
      ],
      "execution_count": 1,
      "outputs": [
        {
          "output_type": "stream",
          "text": [
            "Go to this URL in a browser: https://accounts.google.com/o/oauth2/auth?client_id=947318989803-6bn6qk8qdgf4n4g3pfee6491hc0brc4i.apps.googleusercontent.com&redirect_uri=urn%3aietf%3awg%3aoauth%3a2.0%3aoob&response_type=code&scope=email%20https%3a%2f%2fwww.googleapis.com%2fauth%2fdocs.test%20https%3a%2f%2fwww.googleapis.com%2fauth%2fdrive%20https%3a%2f%2fwww.googleapis.com%2fauth%2fdrive.photos.readonly%20https%3a%2f%2fwww.googleapis.com%2fauth%2fpeopleapi.readonly\n",
            "\n",
            "Enter your authorization code:\n",
            "··········\n",
            "Mounted at /content/drive\n"
          ],
          "name": "stdout"
        }
      ]
    },
    {
      "cell_type": "code",
      "metadata": {
        "id": "nuLsq1NTO2uk",
        "colab_type": "code",
        "colab": {
          "base_uri": "https://localhost:8080/",
          "height": 74
        },
        "outputId": "cea6bfc9-0ddc-4e13-ca60-b9b16d5f6cd9"
      },
      "source": [
        "df = pd.read_csv(\"drive/My Drive/datasets/order_new_foranalysis.csv\", index_col = 'Unnamed: 0')"
      ],
      "execution_count": 9,
      "outputs": [
        {
          "output_type": "stream",
          "text": [
            "/usr/local/lib/python3.6/dist-packages/numpy/lib/arraysetops.py:569: FutureWarning: elementwise comparison failed; returning scalar instead, but in the future will perform elementwise comparison\n",
            "  mask |= (ar1 == a)\n"
          ],
          "name": "stderr"
        }
      ]
    },
    {
      "cell_type": "code",
      "metadata": {
        "id": "9zWD6RqKPpmE",
        "colab_type": "code",
        "colab": {}
      },
      "source": [
        "import matplotlib.pyplot as plt\n",
        "%matplotlib inline"
      ],
      "execution_count": 0,
      "outputs": []
    },
    {
      "cell_type": "code",
      "metadata": {
        "id": "kGZG9qfjPbI7",
        "colab_type": "code",
        "colab": {
          "base_uri": "https://localhost:8080/",
          "height": 330
        },
        "outputId": "96a47256-e56a-49a6-d961-58c0932255f5"
      },
      "source": [
        "#checking the data\n",
        "df.head()"
      ],
      "execution_count": 12,
      "outputs": [
        {
          "output_type": "execute_result",
          "data": {
            "text/html": [
              "<div>\n",
              "<style scoped>\n",
              "    .dataframe tbody tr th:only-of-type {\n",
              "        vertical-align: middle;\n",
              "    }\n",
              "\n",
              "    .dataframe tbody tr th {\n",
              "        vertical-align: top;\n",
              "    }\n",
              "\n",
              "    .dataframe thead th {\n",
              "        text-align: right;\n",
              "    }\n",
              "</style>\n",
              "<table border=\"1\" class=\"dataframe\">\n",
              "  <thead>\n",
              "    <tr style=\"text-align: right;\">\n",
              "      <th></th>\n",
              "      <th>order_id</th>\n",
              "      <th>user_id</th>\n",
              "      <th>eval_set</th>\n",
              "      <th>order_number</th>\n",
              "      <th>order_dow</th>\n",
              "      <th>order_hour_of_day</th>\n",
              "      <th>days_since_prior_order</th>\n",
              "      <th>product_id</th>\n",
              "      <th>add_to_cart_order</th>\n",
              "      <th>reordered</th>\n",
              "      <th>product_name</th>\n",
              "      <th>aisle_id</th>\n",
              "      <th>department_id</th>\n",
              "      <th>aisle</th>\n",
              "      <th>department</th>\n",
              "    </tr>\n",
              "  </thead>\n",
              "  <tbody>\n",
              "    <tr>\n",
              "      <th>0</th>\n",
              "      <td>1187899</td>\n",
              "      <td>1</td>\n",
              "      <td>train</td>\n",
              "      <td>11</td>\n",
              "      <td>4</td>\n",
              "      <td>8</td>\n",
              "      <td>14.0</td>\n",
              "      <td>196</td>\n",
              "      <td>1</td>\n",
              "      <td>1</td>\n",
              "      <td>Soda</td>\n",
              "      <td>77</td>\n",
              "      <td>7</td>\n",
              "      <td>soft drinks</td>\n",
              "      <td>beverages</td>\n",
              "    </tr>\n",
              "    <tr>\n",
              "      <th>1</th>\n",
              "      <td>1187899</td>\n",
              "      <td>1</td>\n",
              "      <td>train</td>\n",
              "      <td>11</td>\n",
              "      <td>4</td>\n",
              "      <td>8</td>\n",
              "      <td>14.0</td>\n",
              "      <td>25133</td>\n",
              "      <td>2</td>\n",
              "      <td>1</td>\n",
              "      <td>Organic String Cheese</td>\n",
              "      <td>21</td>\n",
              "      <td>16</td>\n",
              "      <td>packaged cheese</td>\n",
              "      <td>dairy eggs</td>\n",
              "    </tr>\n",
              "    <tr>\n",
              "      <th>2</th>\n",
              "      <td>1187899</td>\n",
              "      <td>1</td>\n",
              "      <td>train</td>\n",
              "      <td>11</td>\n",
              "      <td>4</td>\n",
              "      <td>8</td>\n",
              "      <td>14.0</td>\n",
              "      <td>38928</td>\n",
              "      <td>3</td>\n",
              "      <td>1</td>\n",
              "      <td>0% Greek Strained Yogurt</td>\n",
              "      <td>120</td>\n",
              "      <td>16</td>\n",
              "      <td>yogurt</td>\n",
              "      <td>dairy eggs</td>\n",
              "    </tr>\n",
              "    <tr>\n",
              "      <th>3</th>\n",
              "      <td>1187899</td>\n",
              "      <td>1</td>\n",
              "      <td>train</td>\n",
              "      <td>11</td>\n",
              "      <td>4</td>\n",
              "      <td>8</td>\n",
              "      <td>14.0</td>\n",
              "      <td>26405</td>\n",
              "      <td>4</td>\n",
              "      <td>1</td>\n",
              "      <td>XL Pick-A-Size Paper Towel Rolls</td>\n",
              "      <td>54</td>\n",
              "      <td>17</td>\n",
              "      <td>paper goods</td>\n",
              "      <td>household</td>\n",
              "    </tr>\n",
              "    <tr>\n",
              "      <th>4</th>\n",
              "      <td>1187899</td>\n",
              "      <td>1</td>\n",
              "      <td>train</td>\n",
              "      <td>11</td>\n",
              "      <td>4</td>\n",
              "      <td>8</td>\n",
              "      <td>14.0</td>\n",
              "      <td>39657</td>\n",
              "      <td>5</td>\n",
              "      <td>1</td>\n",
              "      <td>Milk Chocolate Almonds</td>\n",
              "      <td>45</td>\n",
              "      <td>19</td>\n",
              "      <td>candy chocolate</td>\n",
              "      <td>snacks</td>\n",
              "    </tr>\n",
              "  </tbody>\n",
              "</table>\n",
              "</div>"
            ],
            "text/plain": [
              "   order_id  user_id eval_set  ...  department_id            aisle  department\n",
              "0   1187899        1    train  ...              7      soft drinks   beverages\n",
              "1   1187899        1    train  ...             16  packaged cheese  dairy eggs\n",
              "2   1187899        1    train  ...             16           yogurt  dairy eggs\n",
              "3   1187899        1    train  ...             17      paper goods   household\n",
              "4   1187899        1    train  ...             19  candy chocolate      snacks\n",
              "\n",
              "[5 rows x 15 columns]"
            ]
          },
          "metadata": {
            "tags": []
          },
          "execution_count": 12
        }
      ]
    },
    {
      "cell_type": "code",
      "metadata": {
        "id": "4OkQhWS5L9PK",
        "colab_type": "code",
        "colab": {
          "base_uri": "https://localhost:8080/",
          "height": 330
        },
        "outputId": "248c50bd-f184-4c6b-f6d7-770e1afdf522"
      },
      "source": [
        "#simple cleaning of the name column\n",
        "df[\"product_name\"] = df.product_name.str.lower()\n",
        "df[\"product_name\"] = df.product_name.str.replace(r\"[^\\w\\s]\", \"\")\n",
        "df.head()"
      ],
      "execution_count": 13,
      "outputs": [
        {
          "output_type": "execute_result",
          "data": {
            "text/html": [
              "<div>\n",
              "<style scoped>\n",
              "    .dataframe tbody tr th:only-of-type {\n",
              "        vertical-align: middle;\n",
              "    }\n",
              "\n",
              "    .dataframe tbody tr th {\n",
              "        vertical-align: top;\n",
              "    }\n",
              "\n",
              "    .dataframe thead th {\n",
              "        text-align: right;\n",
              "    }\n",
              "</style>\n",
              "<table border=\"1\" class=\"dataframe\">\n",
              "  <thead>\n",
              "    <tr style=\"text-align: right;\">\n",
              "      <th></th>\n",
              "      <th>order_id</th>\n",
              "      <th>user_id</th>\n",
              "      <th>eval_set</th>\n",
              "      <th>order_number</th>\n",
              "      <th>order_dow</th>\n",
              "      <th>order_hour_of_day</th>\n",
              "      <th>days_since_prior_order</th>\n",
              "      <th>product_id</th>\n",
              "      <th>add_to_cart_order</th>\n",
              "      <th>reordered</th>\n",
              "      <th>product_name</th>\n",
              "      <th>aisle_id</th>\n",
              "      <th>department_id</th>\n",
              "      <th>aisle</th>\n",
              "      <th>department</th>\n",
              "    </tr>\n",
              "  </thead>\n",
              "  <tbody>\n",
              "    <tr>\n",
              "      <th>0</th>\n",
              "      <td>1187899</td>\n",
              "      <td>1</td>\n",
              "      <td>train</td>\n",
              "      <td>11</td>\n",
              "      <td>4</td>\n",
              "      <td>8</td>\n",
              "      <td>14.0</td>\n",
              "      <td>196</td>\n",
              "      <td>1</td>\n",
              "      <td>1</td>\n",
              "      <td>soda</td>\n",
              "      <td>77</td>\n",
              "      <td>7</td>\n",
              "      <td>soft drinks</td>\n",
              "      <td>beverages</td>\n",
              "    </tr>\n",
              "    <tr>\n",
              "      <th>1</th>\n",
              "      <td>1187899</td>\n",
              "      <td>1</td>\n",
              "      <td>train</td>\n",
              "      <td>11</td>\n",
              "      <td>4</td>\n",
              "      <td>8</td>\n",
              "      <td>14.0</td>\n",
              "      <td>25133</td>\n",
              "      <td>2</td>\n",
              "      <td>1</td>\n",
              "      <td>organic string cheese</td>\n",
              "      <td>21</td>\n",
              "      <td>16</td>\n",
              "      <td>packaged cheese</td>\n",
              "      <td>dairy eggs</td>\n",
              "    </tr>\n",
              "    <tr>\n",
              "      <th>2</th>\n",
              "      <td>1187899</td>\n",
              "      <td>1</td>\n",
              "      <td>train</td>\n",
              "      <td>11</td>\n",
              "      <td>4</td>\n",
              "      <td>8</td>\n",
              "      <td>14.0</td>\n",
              "      <td>38928</td>\n",
              "      <td>3</td>\n",
              "      <td>1</td>\n",
              "      <td>0 greek strained yogurt</td>\n",
              "      <td>120</td>\n",
              "      <td>16</td>\n",
              "      <td>yogurt</td>\n",
              "      <td>dairy eggs</td>\n",
              "    </tr>\n",
              "    <tr>\n",
              "      <th>3</th>\n",
              "      <td>1187899</td>\n",
              "      <td>1</td>\n",
              "      <td>train</td>\n",
              "      <td>11</td>\n",
              "      <td>4</td>\n",
              "      <td>8</td>\n",
              "      <td>14.0</td>\n",
              "      <td>26405</td>\n",
              "      <td>4</td>\n",
              "      <td>1</td>\n",
              "      <td>xl pickasize paper towel rolls</td>\n",
              "      <td>54</td>\n",
              "      <td>17</td>\n",
              "      <td>paper goods</td>\n",
              "      <td>household</td>\n",
              "    </tr>\n",
              "    <tr>\n",
              "      <th>4</th>\n",
              "      <td>1187899</td>\n",
              "      <td>1</td>\n",
              "      <td>train</td>\n",
              "      <td>11</td>\n",
              "      <td>4</td>\n",
              "      <td>8</td>\n",
              "      <td>14.0</td>\n",
              "      <td>39657</td>\n",
              "      <td>5</td>\n",
              "      <td>1</td>\n",
              "      <td>milk chocolate almonds</td>\n",
              "      <td>45</td>\n",
              "      <td>19</td>\n",
              "      <td>candy chocolate</td>\n",
              "      <td>snacks</td>\n",
              "    </tr>\n",
              "  </tbody>\n",
              "</table>\n",
              "</div>"
            ],
            "text/plain": [
              "   order_id  user_id eval_set  ...  department_id            aisle  department\n",
              "0   1187899        1    train  ...              7      soft drinks   beverages\n",
              "1   1187899        1    train  ...             16  packaged cheese  dairy eggs\n",
              "2   1187899        1    train  ...             16           yogurt  dairy eggs\n",
              "3   1187899        1    train  ...             17      paper goods   household\n",
              "4   1187899        1    train  ...             19  candy chocolate      snacks\n",
              "\n",
              "[5 rows x 15 columns]"
            ]
          },
          "metadata": {
            "tags": []
          },
          "execution_count": 13
        }
      ]
    },
    {
      "cell_type": "code",
      "metadata": {
        "id": "DtT30zQIL9PR",
        "colab_type": "code",
        "colab": {}
      },
      "source": [
        "def jaccard_sim(str1):\n",
        "    \"\"\"A function to check Jaccard similarity coefficient\n",
        "    (intersection divided by union of sets) of an item name\n",
        "    and a list of other names, returns a tuple - a match with highest score and a score\"\"\"\n",
        "    set1 = set(str1.split())\n",
        "    maxn = products[0]\n",
        "    set2 = set(maxn.split())\n",
        "    intersec = set1.intersection(set2)\n",
        "    maxv = float(len(intersec) / (len(set1)+len(set2) - len(intersec)))\n",
        "    for name in products[1:]:\n",
        "        set2 = set(name.split())\n",
        "        intersec = set1.intersection(set2)\n",
        "        result = float(len(intersec) / (len(set1)+len(set2) - len(intersec)))\n",
        "        if result > maxv:\n",
        "            maxv = result\n",
        "            maxn = name\n",
        "    to_return = (maxn, maxv)\n",
        "    return to_return"
      ],
      "execution_count": 0,
      "outputs": []
    },
    {
      "cell_type": "code",
      "metadata": {
        "id": "I5km_obrL9PX",
        "colab_type": "code",
        "colab": {}
      },
      "source": [
        "gf = df[df[\"product_name\"].str.contains(\"gluten\")]"
      ],
      "execution_count": 0,
      "outputs": []
    },
    {
      "cell_type": "code",
      "metadata": {
        "id": "My_AZNjnL9Pf",
        "colab_type": "code",
        "colab": {
          "base_uri": "https://localhost:8080/",
          "height": 315
        },
        "outputId": "f6c00174-eec3-4124-ee09-e3dcbc96ad46"
      },
      "source": [
        "print(gf.department.value_counts())\n",
        "#reducing departments to 5 with the highest number of orders\n",
        "gf = gf[gf[\"department\"].str.contains(\"snacks|frozen|bakery|breakfast|dry goods pasta\")]\n",
        "df = df[df[\"department\"].str.contains(\"snacks|frozen|bakery|breakfast|dry goods pasta\")]"
      ],
      "execution_count": 16,
      "outputs": [
        {
          "output_type": "stream",
          "text": [
            "frozen             5029\n",
            "snacks             4967\n",
            "bakery             2505\n",
            "breakfast          2189\n",
            "dry goods pasta    1744\n",
            "pantry              768\n",
            "international       511\n",
            "deli                476\n",
            "babies              266\n",
            "dairy eggs          142\n",
            "canned goods         98\n",
            "personal care        40\n",
            "missing              39\n",
            "other                14\n",
            "meat seafood         12\n",
            "Name: department, dtype: int64\n"
          ],
          "name": "stdout"
        }
      ]
    },
    {
      "cell_type": "code",
      "metadata": {
        "id": "ZDSIY80uL9Pl",
        "colab_type": "code",
        "colab": {}
      },
      "source": [
        "products = gf.product_name.unique()"
      ],
      "execution_count": 0,
      "outputs": []
    },
    {
      "cell_type": "code",
      "metadata": {
        "id": "U1g99BaPL9Pq",
        "colab_type": "code",
        "colab": {
          "base_uri": "https://localhost:8080/",
          "height": 92
        },
        "outputId": "4bb80b34-7901-4855-a6de-5484bcf2c534"
      },
      "source": [
        "gluten = df[~df.product_name.isin(products)]\n",
        "print(df.shape)\n",
        "print(gf.shape)\n",
        "print(gluten.shape)\n",
        "df.shape[0] == gf.shape[0] + gluten.shape[0]"
      ],
      "execution_count": 18,
      "outputs": [
        {
          "output_type": "stream",
          "text": [
            "(335895, 15)\n",
            "(16434, 15)\n",
            "(319461, 15)\n"
          ],
          "name": "stdout"
        },
        {
          "output_type": "execute_result",
          "data": {
            "text/plain": [
              "True"
            ]
          },
          "metadata": {
            "tags": []
          },
          "execution_count": 18
        }
      ]
    },
    {
      "cell_type": "code",
      "metadata": {
        "id": "CZ313LhFL9Pv",
        "colab_type": "code",
        "colab": {
          "base_uri": "https://localhost:8080/",
          "height": 69
        },
        "outputId": "1d1a5b30-b8d0-4ada-fe2b-38ff0ca20674"
      },
      "source": [
        "#checking if there are no gluten-free products missed in \"gluten\"\n",
        "gluten[gluten.product_name.str.contains(\"gluten\")]"
      ],
      "execution_count": 19,
      "outputs": [
        {
          "output_type": "execute_result",
          "data": {
            "text/html": [
              "<div>\n",
              "<style scoped>\n",
              "    .dataframe tbody tr th:only-of-type {\n",
              "        vertical-align: middle;\n",
              "    }\n",
              "\n",
              "    .dataframe tbody tr th {\n",
              "        vertical-align: top;\n",
              "    }\n",
              "\n",
              "    .dataframe thead th {\n",
              "        text-align: right;\n",
              "    }\n",
              "</style>\n",
              "<table border=\"1\" class=\"dataframe\">\n",
              "  <thead>\n",
              "    <tr style=\"text-align: right;\">\n",
              "      <th></th>\n",
              "      <th>order_id</th>\n",
              "      <th>user_id</th>\n",
              "      <th>eval_set</th>\n",
              "      <th>order_number</th>\n",
              "      <th>order_dow</th>\n",
              "      <th>order_hour_of_day</th>\n",
              "      <th>days_since_prior_order</th>\n",
              "      <th>product_id</th>\n",
              "      <th>add_to_cart_order</th>\n",
              "      <th>reordered</th>\n",
              "      <th>product_name</th>\n",
              "      <th>aisle_id</th>\n",
              "      <th>department_id</th>\n",
              "      <th>aisle</th>\n",
              "      <th>department</th>\n",
              "    </tr>\n",
              "  </thead>\n",
              "  <tbody>\n",
              "  </tbody>\n",
              "</table>\n",
              "</div>"
            ],
            "text/plain": [
              "Empty DataFrame\n",
              "Columns: [order_id, user_id, eval_set, order_number, order_dow, order_hour_of_day, days_since_prior_order, product_id, add_to_cart_order, reordered, product_name, aisle_id, department_id, aisle, department]\n",
              "Index: []"
            ]
          },
          "metadata": {
            "tags": []
          },
          "execution_count": 19
        }
      ]
    },
    {
      "cell_type": "code",
      "metadata": {
        "id": "TWuhltu6L9P1",
        "colab_type": "code",
        "colab": {}
      },
      "source": [
        "#counting the highest jaccard similarity for non-gluten-free items to see if there are items with names similar to ones\n",
        "#gluten-free\n",
        "pd.options.mode.chained_assignment = None\n",
        "gluten.loc[:,\"paired\"] = gluten[\"product_name\"].apply(jaccard_sim).copy()"
      ],
      "execution_count": 0,
      "outputs": []
    },
    {
      "cell_type": "code",
      "metadata": {
        "id": "rHuDIs7NL9P7",
        "colab_type": "code",
        "colab": {
          "base_uri": "https://localhost:8080/",
          "height": 452
        },
        "outputId": "f0fb8003-92ca-40d5-e010-e50504edc6a7"
      },
      "source": [
        "#adding columns for most similar product and the similarity scor\n",
        "gluten[\"paired_item\"] = gluten[\"paired\"].apply(lambda x: x[0])\n",
        "gluten[\"paired_score\"] = gluten[\"paired\"].apply(lambda x: x[1])\n",
        "gluten.drop(\"paired\", axis = 1, inplace = True)\n",
        "gluten.head()"
      ],
      "execution_count": 22,
      "outputs": [
        {
          "output_type": "execute_result",
          "data": {
            "text/html": [
              "<div>\n",
              "<style scoped>\n",
              "    .dataframe tbody tr th:only-of-type {\n",
              "        vertical-align: middle;\n",
              "    }\n",
              "\n",
              "    .dataframe tbody tr th {\n",
              "        vertical-align: top;\n",
              "    }\n",
              "\n",
              "    .dataframe thead th {\n",
              "        text-align: right;\n",
              "    }\n",
              "</style>\n",
              "<table border=\"1\" class=\"dataframe\">\n",
              "  <thead>\n",
              "    <tr style=\"text-align: right;\">\n",
              "      <th></th>\n",
              "      <th>order_id</th>\n",
              "      <th>user_id</th>\n",
              "      <th>eval_set</th>\n",
              "      <th>order_number</th>\n",
              "      <th>order_dow</th>\n",
              "      <th>order_hour_of_day</th>\n",
              "      <th>days_since_prior_order</th>\n",
              "      <th>product_id</th>\n",
              "      <th>add_to_cart_order</th>\n",
              "      <th>reordered</th>\n",
              "      <th>product_name</th>\n",
              "      <th>aisle_id</th>\n",
              "      <th>department_id</th>\n",
              "      <th>aisle</th>\n",
              "      <th>department</th>\n",
              "      <th>paired_item</th>\n",
              "      <th>paired_score</th>\n",
              "    </tr>\n",
              "  </thead>\n",
              "  <tbody>\n",
              "    <tr>\n",
              "      <th>4</th>\n",
              "      <td>1187899</td>\n",
              "      <td>1</td>\n",
              "      <td>train</td>\n",
              "      <td>11</td>\n",
              "      <td>4</td>\n",
              "      <td>8</td>\n",
              "      <td>14.0</td>\n",
              "      <td>39657</td>\n",
              "      <td>5</td>\n",
              "      <td>1</td>\n",
              "      <td>milk chocolate almonds</td>\n",
              "      <td>45</td>\n",
              "      <td>19</td>\n",
              "      <td>candy chocolate</td>\n",
              "      <td>snacks</td>\n",
              "      <td>gluten free chocolate brownies</td>\n",
              "      <td>0.166667</td>\n",
              "    </tr>\n",
              "    <tr>\n",
              "      <th>5</th>\n",
              "      <td>1187899</td>\n",
              "      <td>1</td>\n",
              "      <td>train</td>\n",
              "      <td>11</td>\n",
              "      <td>4</td>\n",
              "      <td>8</td>\n",
              "      <td>14.0</td>\n",
              "      <td>10258</td>\n",
              "      <td>6</td>\n",
              "      <td>1</td>\n",
              "      <td>pistachios</td>\n",
              "      <td>117</td>\n",
              "      <td>19</td>\n",
              "      <td>nuts seeds dried fruit</td>\n",
              "      <td>snacks</td>\n",
              "      <td>gluten free whole grain bread</td>\n",
              "      <td>0.000000</td>\n",
              "    </tr>\n",
              "    <tr>\n",
              "      <th>6</th>\n",
              "      <td>1187899</td>\n",
              "      <td>1</td>\n",
              "      <td>train</td>\n",
              "      <td>11</td>\n",
              "      <td>4</td>\n",
              "      <td>8</td>\n",
              "      <td>14.0</td>\n",
              "      <td>13032</td>\n",
              "      <td>7</td>\n",
              "      <td>1</td>\n",
              "      <td>cinnamon toast crunch</td>\n",
              "      <td>121</td>\n",
              "      <td>14</td>\n",
              "      <td>cereal</td>\n",
              "      <td>breakfast</td>\n",
              "      <td>gluten free cinnamon french toast sticks</td>\n",
              "      <td>0.285714</td>\n",
              "    </tr>\n",
              "    <tr>\n",
              "      <th>7</th>\n",
              "      <td>1187899</td>\n",
              "      <td>1</td>\n",
              "      <td>train</td>\n",
              "      <td>11</td>\n",
              "      <td>4</td>\n",
              "      <td>8</td>\n",
              "      <td>14.0</td>\n",
              "      <td>26088</td>\n",
              "      <td>8</td>\n",
              "      <td>1</td>\n",
              "      <td>aged white cheddar popcorn</td>\n",
              "      <td>23</td>\n",
              "      <td>19</td>\n",
              "      <td>popcorn jerky</td>\n",
              "      <td>snacks</td>\n",
              "      <td>aged white cheddar glutenfree baked rice and c...</td>\n",
              "      <td>0.300000</td>\n",
              "    </tr>\n",
              "    <tr>\n",
              "      <th>13</th>\n",
              "      <td>1492625</td>\n",
              "      <td>2</td>\n",
              "      <td>train</td>\n",
              "      <td>15</td>\n",
              "      <td>1</td>\n",
              "      <td>11</td>\n",
              "      <td>30.0</td>\n",
              "      <td>16589</td>\n",
              "      <td>3</td>\n",
              "      <td>1</td>\n",
              "      <td>plantain chips</td>\n",
              "      <td>107</td>\n",
              "      <td>19</td>\n",
              "      <td>chips pretzels</td>\n",
              "      <td>snacks</td>\n",
              "      <td>glutenfree original falafel chips</td>\n",
              "      <td>0.200000</td>\n",
              "    </tr>\n",
              "  </tbody>\n",
              "</table>\n",
              "</div>"
            ],
            "text/plain": [
              "    order_id  ...  paired_score\n",
              "4    1187899  ...      0.166667\n",
              "5    1187899  ...      0.000000\n",
              "6    1187899  ...      0.285714\n",
              "7    1187899  ...      0.300000\n",
              "13   1492625  ...      0.200000\n",
              "\n",
              "[5 rows x 17 columns]"
            ]
          },
          "metadata": {
            "tags": []
          },
          "execution_count": 22
        }
      ]
    },
    {
      "cell_type": "code",
      "metadata": {
        "id": "TohFbzATL9QB",
        "colab_type": "code",
        "colab": {
          "base_uri": "https://localhost:8080/",
          "height": 834
        },
        "outputId": "66270089-84b9-4ca6-e403-cdfea0dc1e86"
      },
      "source": [
        "#filtering out items with the score less than 0.5 \n",
        "analog = gluten[gluten.paired_score > 0.5]\n",
        "analog.tail(10)"
      ],
      "execution_count": 23,
      "outputs": [
        {
          "output_type": "execute_result",
          "data": {
            "text/html": [
              "<div>\n",
              "<style scoped>\n",
              "    .dataframe tbody tr th:only-of-type {\n",
              "        vertical-align: middle;\n",
              "    }\n",
              "\n",
              "    .dataframe tbody tr th {\n",
              "        vertical-align: top;\n",
              "    }\n",
              "\n",
              "    .dataframe thead th {\n",
              "        text-align: right;\n",
              "    }\n",
              "</style>\n",
              "<table border=\"1\" class=\"dataframe\">\n",
              "  <thead>\n",
              "    <tr style=\"text-align: right;\">\n",
              "      <th></th>\n",
              "      <th>order_id</th>\n",
              "      <th>user_id</th>\n",
              "      <th>eval_set</th>\n",
              "      <th>order_number</th>\n",
              "      <th>order_dow</th>\n",
              "      <th>order_hour_of_day</th>\n",
              "      <th>days_since_prior_order</th>\n",
              "      <th>product_id</th>\n",
              "      <th>add_to_cart_order</th>\n",
              "      <th>reordered</th>\n",
              "      <th>product_name</th>\n",
              "      <th>aisle_id</th>\n",
              "      <th>department_id</th>\n",
              "      <th>aisle</th>\n",
              "      <th>department</th>\n",
              "      <th>paired_item</th>\n",
              "      <th>paired_score</th>\n",
              "    </tr>\n",
              "  </thead>\n",
              "  <tbody>\n",
              "    <tr>\n",
              "      <th>1382961</th>\n",
              "      <td>2633656</td>\n",
              "      <td>205981</td>\n",
              "      <td>train</td>\n",
              "      <td>7</td>\n",
              "      <td>0</td>\n",
              "      <td>16</td>\n",
              "      <td>30.0</td>\n",
              "      <td>42193</td>\n",
              "      <td>10</td>\n",
              "      <td>0</td>\n",
              "      <td>chocolate chip cookie</td>\n",
              "      <td>61</td>\n",
              "      <td>19</td>\n",
              "      <td>cookies cakes</td>\n",
              "      <td>snacks</td>\n",
              "      <td>chocolate chip cookie gluten free</td>\n",
              "      <td>0.600000</td>\n",
              "    </tr>\n",
              "    <tr>\n",
              "      <th>1383093</th>\n",
              "      <td>1220791</td>\n",
              "      <td>205997</td>\n",
              "      <td>train</td>\n",
              "      <td>8</td>\n",
              "      <td>1</td>\n",
              "      <td>18</td>\n",
              "      <td>8.0</td>\n",
              "      <td>25043</td>\n",
              "      <td>10</td>\n",
              "      <td>0</td>\n",
              "      <td>instant oatmeal variety pack</td>\n",
              "      <td>130</td>\n",
              "      <td>14</td>\n",
              "      <td>hot cereal pancake mixes</td>\n",
              "      <td>breakfast</td>\n",
              "      <td>variety pack of gluten free instant oatmeal</td>\n",
              "      <td>0.571429</td>\n",
              "    </tr>\n",
              "    <tr>\n",
              "      <th>1383109</th>\n",
              "      <td>3319420</td>\n",
              "      <td>206005</td>\n",
              "      <td>train</td>\n",
              "      <td>24</td>\n",
              "      <td>0</td>\n",
              "      <td>12</td>\n",
              "      <td>10.0</td>\n",
              "      <td>25246</td>\n",
              "      <td>7</td>\n",
              "      <td>0</td>\n",
              "      <td>white cheddar macaroni  cheese cups</td>\n",
              "      <td>4</td>\n",
              "      <td>9</td>\n",
              "      <td>instant foods</td>\n",
              "      <td>dry goods pasta</td>\n",
              "      <td>organic glutenfree white cheddar macaroni  cheese</td>\n",
              "      <td>0.571429</td>\n",
              "    </tr>\n",
              "    <tr>\n",
              "      <th>1383434</th>\n",
              "      <td>2926243</td>\n",
              "      <td>206051</td>\n",
              "      <td>train</td>\n",
              "      <td>38</td>\n",
              "      <td>3</td>\n",
              "      <td>16</td>\n",
              "      <td>6.0</td>\n",
              "      <td>14553</td>\n",
              "      <td>5</td>\n",
              "      <td>0</td>\n",
              "      <td>oats  honey granola</td>\n",
              "      <td>57</td>\n",
              "      <td>14</td>\n",
              "      <td>granola</td>\n",
              "      <td>breakfast</td>\n",
              "      <td>oats  honey gluten free granola</td>\n",
              "      <td>0.600000</td>\n",
              "    </tr>\n",
              "    <tr>\n",
              "      <th>1383824</th>\n",
              "      <td>2682845</td>\n",
              "      <td>206108</td>\n",
              "      <td>train</td>\n",
              "      <td>14</td>\n",
              "      <td>0</td>\n",
              "      <td>18</td>\n",
              "      <td>27.0</td>\n",
              "      <td>35004</td>\n",
              "      <td>29</td>\n",
              "      <td>1</td>\n",
              "      <td>macaroni shells  white cheddar cheese</td>\n",
              "      <td>4</td>\n",
              "      <td>9</td>\n",
              "      <td>instant foods</td>\n",
              "      <td>dry goods pasta</td>\n",
              "      <td>organic glutenfree white cheddar macaroni  cheese</td>\n",
              "      <td>0.571429</td>\n",
              "    </tr>\n",
              "    <tr>\n",
              "      <th>1383830</th>\n",
              "      <td>2682845</td>\n",
              "      <td>206108</td>\n",
              "      <td>train</td>\n",
              "      <td>14</td>\n",
              "      <td>0</td>\n",
              "      <td>18</td>\n",
              "      <td>27.0</td>\n",
              "      <td>40199</td>\n",
              "      <td>35</td>\n",
              "      <td>1</td>\n",
              "      <td>chocolate chip cookies</td>\n",
              "      <td>61</td>\n",
              "      <td>19</td>\n",
              "      <td>cookies cakes</td>\n",
              "      <td>snacks</td>\n",
              "      <td>gluten free chocolate chip cookies</td>\n",
              "      <td>0.600000</td>\n",
              "    </tr>\n",
              "    <tr>\n",
              "      <th>1384036</th>\n",
              "      <td>1695230</td>\n",
              "      <td>206128</td>\n",
              "      <td>train</td>\n",
              "      <td>16</td>\n",
              "      <td>2</td>\n",
              "      <td>8</td>\n",
              "      <td>30.0</td>\n",
              "      <td>45866</td>\n",
              "      <td>2</td>\n",
              "      <td>1</td>\n",
              "      <td>fig newmans fruit filled cookies</td>\n",
              "      <td>61</td>\n",
              "      <td>19</td>\n",
              "      <td>cookies cakes</td>\n",
              "      <td>snacks</td>\n",
              "      <td>gluten free fig fruit filled cookies</td>\n",
              "      <td>0.571429</td>\n",
              "    </tr>\n",
              "    <tr>\n",
              "      <th>1384194</th>\n",
              "      <td>2721635</td>\n",
              "      <td>206149</td>\n",
              "      <td>train</td>\n",
              "      <td>6</td>\n",
              "      <td>6</td>\n",
              "      <td>10</td>\n",
              "      <td>30.0</td>\n",
              "      <td>45866</td>\n",
              "      <td>9</td>\n",
              "      <td>0</td>\n",
              "      <td>fig newmans fruit filled cookies</td>\n",
              "      <td>61</td>\n",
              "      <td>19</td>\n",
              "      <td>cookies cakes</td>\n",
              "      <td>snacks</td>\n",
              "      <td>gluten free fig fruit filled cookies</td>\n",
              "      <td>0.571429</td>\n",
              "    </tr>\n",
              "    <tr>\n",
              "      <th>1384289</th>\n",
              "      <td>2262542</td>\n",
              "      <td>206157</td>\n",
              "      <td>train</td>\n",
              "      <td>11</td>\n",
              "      <td>3</td>\n",
              "      <td>13</td>\n",
              "      <td>30.0</td>\n",
              "      <td>25346</td>\n",
              "      <td>15</td>\n",
              "      <td>0</td>\n",
              "      <td>peanut butter dark chocolate  protein bar</td>\n",
              "      <td>3</td>\n",
              "      <td>19</td>\n",
              "      <td>energy granola bars</td>\n",
              "      <td>snacks</td>\n",
              "      <td>gluten free peanut butter cup dark chocolate p...</td>\n",
              "      <td>0.666667</td>\n",
              "    </tr>\n",
              "    <tr>\n",
              "      <th>1384395</th>\n",
              "      <td>1533014</td>\n",
              "      <td>206176</td>\n",
              "      <td>train</td>\n",
              "      <td>15</td>\n",
              "      <td>6</td>\n",
              "      <td>16</td>\n",
              "      <td>12.0</td>\n",
              "      <td>258</td>\n",
              "      <td>5</td>\n",
              "      <td>0</td>\n",
              "      <td>vegetable pot pie</td>\n",
              "      <td>38</td>\n",
              "      <td>1</td>\n",
              "      <td>frozen meals</td>\n",
              "      <td>frozen</td>\n",
              "      <td>gluten free vegetable pot pie</td>\n",
              "      <td>0.600000</td>\n",
              "    </tr>\n",
              "  </tbody>\n",
              "</table>\n",
              "</div>"
            ],
            "text/plain": [
              "         order_id  ...  paired_score\n",
              "1382961   2633656  ...      0.600000\n",
              "1383093   1220791  ...      0.571429\n",
              "1383109   3319420  ...      0.571429\n",
              "1383434   2926243  ...      0.600000\n",
              "1383824   2682845  ...      0.571429\n",
              "1383830   2682845  ...      0.600000\n",
              "1384036   1695230  ...      0.571429\n",
              "1384194   2721635  ...      0.571429\n",
              "1384289   2262542  ...      0.666667\n",
              "1384395   1533014  ...      0.600000\n",
              "\n",
              "[10 rows x 17 columns]"
            ]
          },
          "metadata": {
            "tags": []
          },
          "execution_count": 23
        }
      ]
    },
    {
      "cell_type": "code",
      "metadata": {
        "id": "i6TWOj3VL9QJ",
        "colab_type": "code",
        "colab": {
          "base_uri": "https://localhost:8080/",
          "height": 36
        },
        "outputId": "9ca21391-0ed1-45bd-f8d9-171973f74667"
      },
      "source": [
        "gfwithanalogs = analog.paired_item.unique()\n",
        "analogs = analog.product_name.unique()\n",
        "print(\"GF:\", len(gfwithanalogs), \"Non-GF:\", len(analogs))"
      ],
      "execution_count": 24,
      "outputs": [
        {
          "output_type": "stream",
          "text": [
            "GF: 99 Non-GF: 169\n"
          ],
          "name": "stdout"
        }
      ]
    },
    {
      "cell_type": "code",
      "metadata": {
        "id": "WDcXonZtL9QN",
        "colab_type": "code",
        "colab": {}
      },
      "source": [
        "gf = gf[gf[\"product_name\"].isin(gfwithanalogs)]"
      ],
      "execution_count": 0,
      "outputs": []
    },
    {
      "cell_type": "code",
      "metadata": {
        "id": "J1biSmmgL9QT",
        "colab_type": "code",
        "colab": {
          "base_uri": "https://localhost:8080/",
          "height": 54
        },
        "outputId": "9092d5d1-5de0-45c0-fba5-1d51afec90d3"
      },
      "source": [
        "print(analog.shape)\n",
        "print(gf.shape)"
      ],
      "execution_count": 26,
      "outputs": [
        {
          "output_type": "stream",
          "text": [
            "(11320, 17)\n",
            "(5013, 15)\n"
          ],
          "name": "stdout"
        }
      ]
    },
    {
      "cell_type": "code",
      "metadata": {
        "id": "X7G7GLGyL9QY",
        "colab_type": "code",
        "colab": {}
      },
      "source": [
        "gf_per_product = pd.DataFrame({'n':gf.groupby(['product_name']).size()})\n",
        "gf_per_product = gf_per_product.sort_values(by='n', ascending= False)\n",
        "\n",
        "analog_per_product = pd.DataFrame({'n':analog.groupby(['product_name']).size()})\n",
        "analog_per_product = analog_per_product.sort_values(by='n', ascending= False)"
      ],
      "execution_count": 0,
      "outputs": []
    },
    {
      "cell_type": "code",
      "metadata": {
        "id": "K2Ur_MsIL9Qc",
        "colab_type": "code",
        "colab": {}
      },
      "source": [
        "gf_per_dept = pd.DataFrame({\"n\":gf.groupby([\"department\"]).size()})\n",
        "gf_per_dept = gf_per_dept.sort_values(by=\"n\", ascending = False)\n",
        "\n",
        "analog_per_dept = pd.DataFrame({\"n\": analog.groupby([\"department\"]).size()})\n",
        "analog_per_dept = analog_per_dept.sort_values(by=\"n\", ascending = False)"
      ],
      "execution_count": 0,
      "outputs": []
    },
    {
      "cell_type": "code",
      "metadata": {
        "id": "_c4bs9ieL9Qh",
        "colab_type": "code",
        "colab": {
          "base_uri": "https://localhost:8080/",
          "height": 390
        },
        "outputId": "4b48060b-12a9-4f5e-a507-3ad6458775e4"
      },
      "source": [
        "#number of GF items and their analogs per department\n",
        "print(\"Gluten-free\")\n",
        "print(gf_per_dept.head())\n",
        "print(\"\\n\\n\")\n",
        "print(\"Non-gluten analogs \\n\")\n",
        "print(analog_per_dept.head())"
      ],
      "execution_count": 29,
      "outputs": [
        {
          "output_type": "stream",
          "text": [
            "Gluten-free\n",
            "                    n\n",
            "department           \n",
            "snacks           2044\n",
            "frozen           1455\n",
            "bakery           1105\n",
            "breakfast         358\n",
            "dry goods pasta    51\n",
            "\n",
            "\n",
            "\n",
            "Non-gluten analogs \n",
            "\n",
            "                    n\n",
            "department           \n",
            "snacks           3229\n",
            "frozen           2651\n",
            "breakfast        2187\n",
            "dry goods pasta  2050\n",
            "bakery           1203\n"
          ],
          "name": "stdout"
        }
      ]
    },
    {
      "cell_type": "code",
      "metadata": {
        "id": "jp64t6ZKL9Ql",
        "colab_type": "code",
        "colab": {
          "base_uri": "https://localhost:8080/",
          "height": 930
        },
        "outputId": "2cc52c18-84c0-47b7-e6c8-437c06de371c"
      },
      "source": [
        "#number of items per aisle\n",
        "gf_per_aisle = pd.DataFrame({\"n\":gf.groupby([\"aisle\"]).size()})\n",
        "gf_per_aisle = gf_per_aisle.sort_values(by = \"n\", ascending = False)\n",
        "\n",
        "analog_per_aisle = pd.DataFrame({\"n\":analog.groupby([\"aisle\"]).size()})\n",
        "analog_per_aisle = analog_per_aisle.sort_values(by = \"n\", ascending = False)\n",
        "\n",
        "print(\"Gluten-free\")\n",
        "print(gf_per_aisle.head(20))\n",
        "print(\"\\n\\n\")\n",
        "print(\"Non-gluten analogs\")\n",
        "print(analog_per_aisle.head(20))"
      ],
      "execution_count": 30,
      "outputs": [
        {
          "output_type": "stream",
          "text": [
            "Gluten-free\n",
            "                            n\n",
            "aisle                        \n",
            "chips pretzels            841\n",
            "bread                     724\n",
            "energy granola bars       669\n",
            "frozen breads doughs      555\n",
            "cookies cakes             481\n",
            "frozen meat seafood       321\n",
            "frozen meals              282\n",
            "hot cereal pancake mixes  279\n",
            "breakfast bakery          277\n",
            "frozen appetizers sides   111\n",
            "buns rolls                 97\n",
            "ice cream ice              86\n",
            "cereal                     63\n",
            "frozen breakfast           51\n",
            "crackers                   40\n",
            "dry pasta                  35\n",
            "frozen pizza               26\n",
            "frozen dessert             23\n",
            "granola                    16\n",
            "ice cream toppings         13\n",
            "\n",
            "\n",
            "\n",
            "Non-gluten analogs\n",
            "                             n\n",
            "aisle                         \n",
            "hot cereal pancake mixes  1788\n",
            "frozen meals              1449\n",
            "cookies cakes             1184\n",
            "pasta sauce                991\n",
            "chips pretzels             895\n",
            "bread                      889\n",
            "popcorn jerky              753\n",
            "frozen appetizers sides    579\n",
            "instant foods              578\n",
            "dry pasta                  388\n",
            "breakfast bakery           290\n",
            "energy granola bars        280\n",
            "granola                    222\n",
            "cereal                     177\n",
            "ice cream ice              161\n",
            "frozen pizza               157\n",
            "frozen meat seafood        155\n",
            "frozen vegan vegetarian     98\n",
            "fresh pasta                 73\n",
            "candy chocolate             60\n"
          ],
          "name": "stdout"
        }
      ]
    },
    {
      "cell_type": "code",
      "metadata": {
        "id": "TMcbEih0L9Qp",
        "colab_type": "code",
        "colab": {}
      },
      "source": [
        "merged = pd.merge(gf_per_aisle, analog_per_aisle, how=\"inner\", left_index=True, right_index=True)\n",
        "cols = [\"gluten-free\", \"analog\"]\n",
        "merged.columns = cols"
      ],
      "execution_count": 0,
      "outputs": []
    },
    {
      "cell_type": "code",
      "metadata": {
        "id": "kMyw9GADL9Qu",
        "colab_type": "code",
        "colab": {
          "base_uri": "https://localhost:8080/",
          "height": 581
        },
        "outputId": "30d46361-01b8-4dfa-d56f-c2c87e59ad6a"
      },
      "source": [
        "#plotting the results\n",
        "import matplotlib.patches as mpatches\n",
        "\n",
        "pos = list(range(len(merged.index)))\n",
        "width = 0.3\n",
        "\n",
        "fig, ax = plt.subplots(figsize = (8,8))\n",
        "\n",
        "freebar = plt.barh(pos, merged[\"gluten-free\"],\n",
        "        width,\n",
        "        alpha = 0.5,\n",
        "        color = \"slateblue\")\n",
        "glutenbar = plt.barh([p + width for p in pos],\n",
        "         merged[\"analog\"],\n",
        "         width, alpha = 0.5,\n",
        "         color = \"lightsteelblue\")\n",
        "\n",
        "\n",
        "ax.set_yticks([p+1.5 * width for p in pos])\n",
        "ax.set_yticklabels(merged.index, alpha = 0.8)\n",
        "\n",
        "\n",
        "ax.yaxis.set_tick_params(rotation = 45)\n",
        "ax.set_title(\"Gluten-free and non-gluten-free analogs orders by aisle\", alpha = 0.8)\n",
        "\n",
        "for spine in ax.spines.values():\n",
        "    spine.set_alpha(0.3)\n",
        "\n",
        "ax.tick_params(color=\"silver\")\n",
        "\n",
        "gluten = mpatches.Patch(color = \"lightsteelblue\", label = \"Non-gluten-free\", alpha = 0.5)\n",
        "gluten_free = mpatches.Patch(color = \"slateblue\", label = \"Gluten-free\", alpha = 0.5)\n",
        "plt.legend(handles = [gluten, gluten_free])\n",
        "\n",
        "plt.tight_layout()"
      ],
      "execution_count": 32,
      "outputs": [
        {
          "output_type": "display_data",
          "data": {
            "image/png": "[encoded data removed]",
            "text/plain": [
              "<Figure size 576x576 with 1 Axes>"
            ]
          },
          "metadata": {
            "tags": [],
            "needs_background": "light"
          }
        }
      ]
    },
    {
      "cell_type": "code",
      "metadata": {
        "id": "qKVMm51TL9Q0",
        "colab_type": "code",
        "colab": {
          "base_uri": "https://localhost:8080/",
          "height": 279
        },
        "outputId": "bb011af6-d187-4bd8-c030-cd86a398ecc5"
      },
      "source": [
        "plt.figure()\n",
        "\n",
        "plt.subplot(1,2,1)\n",
        "hours = gf.groupby(['order_hour_of_day']).size().index\n",
        "values = gf.groupby(['order_hour_of_day']).size().values\n",
        "plt.bar(hours, values, color = 'slateblue', alpha = 0.5)\n",
        "plt.title('GF items by order hour', fontsize=10)\n",
        "\n",
        "plt.subplot(1,2,2)\n",
        "ghours = analog.groupby(['order_hour_of_day']).size().index\n",
        "gvalues = analog.groupby(['order_hour_of_day']).size().values\n",
        "plt.bar(ghours, gvalues, color = 'lightsteelblue', alpha = 0.5)\n",
        "plt.title('Non-GF analogs by order hour', fontsize=10)\n",
        "plt.show()"
      ],
      "execution_count": 34,
      "outputs": [
        {
          "output_type": "display_data",
          "data": {
            "image/png": "[encoded data removed]",
            "text/plain": [
              "<Figure size 432x288 with 2 Axes>"
            ]
          },
          "metadata": {
            "tags": [],
            "needs_background": "light"
          }
        }
      ]
    },
    {
      "cell_type": "markdown",
      "metadata": {
        "id": "P2EZXY2QL9Q4",
        "colab_type": "text"
      },
      "source": [
        "# __Conclusion__\n",
        "\n",
        "> ① Instacart users tend to prefer non-gluten free items if there is a glute-free analog. \n",
        "\n",
        "> ② This tendency is particularly stroing for items other than \"healthy food\" such as cakes, instant food, pancakes.\n",
        "\n",
        "> ③ The time of purchase for gluten-free items and non-gluten free analogs was similar.\n",
        "\n",
        "\n",
        "\n",
        "\n",
        "\n",
        "\n"
      ]
    }
  ]
}